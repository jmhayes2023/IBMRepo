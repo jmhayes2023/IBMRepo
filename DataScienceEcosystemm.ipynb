{
 "cells": [
  {
   "cell_type": "markdown",
   "id": "94b14eb4",
   "metadata": {
    "toc": true
   },
   "source": []
  },
  {
   "cell_type": "markdown",
   "id": "38a547d3",
   "metadata": {},
   "source": [
    " # Data Science Tools and Ecosystem"
   ]
  },
  {
   "cell_type": "markdown",
   "id": "884772d7",
   "metadata": {},
   "source": [
    "## Author\n",
    "Jonathan Hayes"
   ]
  },
  {
   "cell_type": "markdown",
   "id": "e1a83f09",
   "metadata": {},
   "source": [
    "In this notebook, Data Science Tools and Ecosystem are summarized. "
   ]
  },
  {
   "cell_type": "markdown",
   "id": "a058420d",
   "metadata": {},
   "source": [
    "**Objectives:** \n",
    "- Some of the popular languages that Data Scientists use\n",
    "- Some of the common libraries that Data Scientists use\n",
    "- Some Data Science tools \n",
    "- Some basic mathematical expressions"
   ]
  },
  {
   "cell_type": "markdown",
   "id": "1c2f6a48",
   "metadata": {},
   "source": [
    "Some of the popular languages that Data Scientists use are: \n",
    "1. Python\n",
    "2. R\n",
    "3. SQL\n",
    "4. Java\n",
    "5. etc..."
   ]
  },
  {
   "cell_type": "markdown",
   "id": "6497c2a4",
   "metadata": {},
   "source": [
    "Some of the common libraries used by data scientists include: \n",
    "1. Pandas\n",
    "2. Numpy \n",
    "3. Seaborns\n",
    "4. ggplot\n",
    "5. etc. "
   ]
  },
  {
   "cell_type": "markdown",
   "id": "b056f076",
   "metadata": {},
   "source": [
    "| Data Science Tools | \n",
    "| :----------------: |\n",
    "| R and RStudio |\n",
    "| Apache Spark | \n",
    "| TensorFlow |"
   ]
  },
  {
   "cell_type": "markdown",
   "id": "bd4d5cd7",
   "metadata": {},
   "source": [
    "### Below are a few examples of evaluating arithmetic expressions in Python: "
   ]
  },
  {
   "cell_type": "code",
   "execution_count": 1,
   "id": "14f1a4ca",
   "metadata": {},
   "outputs": [
    {
     "data": {
      "text/plain": [
       "17"
      ]
     },
     "execution_count": 1,
     "metadata": {},
     "output_type": "execute_result"
    }
   ],
   "source": [
    "## this is a simple arithmetic expression to multiply then add integers. \n",
    "(3*4)+5"
   ]
  },
  {
   "cell_type": "code",
   "execution_count": 2,
   "id": "3c36ef57",
   "metadata": {},
   "outputs": [
    {
     "data": {
      "text/plain": [
       "3.3333333333333335"
      ]
     },
     "execution_count": 2,
     "metadata": {},
     "output_type": "execute_result"
    }
   ],
   "source": [
    " ## This will convert 200 minutes to hours by dividng by 60\n",
    "200 / 60"
   ]
  }
 ],
 "metadata": {
  "kernelspec": {
   "display_name": "Python 3 (ipykernel)",
   "language": "python",
   "name": "python3"
  },
  "language_info": {
   "codemirror_mode": {
    "name": "ipython",
    "version": 3
   },
   "file_extension": ".py",
   "mimetype": "text/x-python",
   "name": "python",
   "nbconvert_exporter": "python",
   "pygments_lexer": "ipython3",
   "version": "3.9.13"
  },
  "toc": {
   "base_numbering": 1,
   "nav_menu": {},
   "number_sections": true,
   "sideBar": true,
   "skip_h1_title": false,
   "title_cell": "Table of Contents",
   "title_sidebar": "Contents",
   "toc_cell": true,
   "toc_position": {},
   "toc_section_display": true,
   "toc_window_display": false
  }
 },
 "nbformat": 4,
 "nbformat_minor": 5
}
